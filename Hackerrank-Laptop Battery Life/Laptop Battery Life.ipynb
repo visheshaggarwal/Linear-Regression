{
 "cells": [
  {
   "cell_type": "code",
   "execution_count": 5,
   "metadata": {},
   "outputs": [
    {
     "name": "stdout",
     "output_type": "stream",
     "text": [
      "[2.81, 7.14, 2.72, 3.87, 1.9, 7.82, 7.02, 5.5, 9.15, 4.87, 8.08, 5.58, 9.13, 0.14, 2.0, 5.47, 0.8, 4.37, 5.31, 0.0, 1.78, 3.45, 6.13, 3.53, 4.61, 1.76, 6.39, 0.02, 9.69, 5.33, 6.37, 5.55, 7.8, 2.06, 7.79, 2.24, 9.71, 1.11, 8.38, 2.33, 1.83, 5.94, 9.2, 1.14, 4.15, 8.43, 5.68, 8.21, 1.75, 2.16, 4.93, 5.75, 1.26, 3.97, 4.39, 7.53, 1.98, 1.66, 2.04, 11.72, 4.64, 4.71, 3.77, 9.33, 1.83, 2.15, 1.58, 9.29, 1.27, 8.49, 5.39, 3.47, 6.48, 4.11, 1.85, 8.79, 0.13, 1.44, 5.96, 3.42, 1.89, 1.98, 5.26, 0.39, 6.05, 1.99, 1.58, 3.99, 4.35, 6.71, 2.58, 7.37, 5.77, 3.97, 3.65, 4.38, 8.06, 8.05, 1.1, 6.65]\n",
      "[5.6, 8.0, 5.4, 7.7, 3.8, 8.0, 8.0, 8.0, 8.0, 8.0, 8.0, 8.0, 8.0, 0.2, 4.0, 8.0, 1.6, 8.0, 8.0, 0.0, 3.5, 6.9, 8.0, 7.0, 8.0, 3.5, 8.0, 0.0, 8.0, 8.0, 8.0, 8.0, 8.0, 4.1, 8.0, 4.4, 8.0, 2.2, 8.0, 4.6, 3.6, 8.0, 8.0, 2.2, 8.0, 8.0, 8.0, 8.0, 3.5, 4.3, 8.0, 8.0, 2.5, 7.9, 8.0, 8.0, 3.9, 3.3, 4.0, 8.0, 8.0, 8.0, 7.5, 8.0, 3.6, 4.3, 3.1, 8.0, 2.5, 8.0, 8.0, 6.9, 8.0, 8.0, 3.7, 8.0, 0.2, 2.8, 8.0, 6.8, 3.7, 3.9, 8.0, 0.7, 8.0, 3.9, 3.1, 7.9, 8.0, 8.0, 5.1, 8.0, 8.0, 7.9, 7.3, 8.0, 8.0, 8.0, 2.2, 8.0]\n"
     ]
    }
   ],
   "source": [
    "f = open(\"trainingdata.txt\",\"r\")\n",
    "l = f.readlines()\n",
    "X = []\n",
    "Y = []\n",
    "for i in l:\n",
    "    a = i[:-2]\n",
    "    a = a.split(sep=\",\")\n",
    "    X.append(float(a[0]))\n",
    "    Y.append(float(a[1]))\n",
    "print(X)\n",
    "print(Y)"
   ]
  },
  {
   "cell_type": "code",
   "execution_count": 6,
   "metadata": {},
   "outputs": [],
   "source": [
    "import numpy as np\n",
    "import matplotlib.pyplot as plt"
   ]
  },
  {
   "cell_type": "code",
   "execution_count": 7,
   "metadata": {},
   "outputs": [
    {
     "data": {
      "image/png": "[encoded data removed]",
      "text/plain": [
       "<Figure size 432x288 with 1 Axes>"
      ]
     },
     "metadata": {
      "needs_background": "light"
     },
     "output_type": "display_data"
    }
   ],
   "source": [
    "plt.scatter(X,Y)\n",
    "plt.show()"
   ]
  },
  {
   "cell_type": "code",
   "execution_count": 10,
   "metadata": {},
   "outputs": [
    {
     "data": {
      "image/png": "[encoded data removed]",
      "text/plain": [
       "<Figure size 432x288 with 1 Axes>"
      ]
     },
     "metadata": {
      "needs_background": "light"
     },
     "output_type": "display_data"
    },
    {
     "name": "stdout",
     "output_type": "stream",
     "text": [
      "4.11\n"
     ]
    }
   ],
   "source": [
    "analysed_x = []\n",
    "analysed_y = []\n",
    "min_val = 10000\n",
    "for i in range(len(Y)):\n",
    "    if Y[i]!=8:\n",
    "        analysed_x.append(X[i])\n",
    "        analysed_y.append(Y[i])\n",
    "    else:\n",
    "        if min_val>X[i]:\n",
    "            min_val = X[i]\n",
    "        \n",
    "plt.scatter(analysed_x,analysed_y)\n",
    "plt.show()\n",
    "print(min_val)"
   ]
  },
  {
   "cell_type": "code",
   "execution_count": 15,
   "metadata": {},
   "outputs": [],
   "source": [
    "analysed_x = np.array(analysed_x)\n",
    "analysed_y = np.array(analysed_y)"
   ]
  },
  {
   "cell_type": "code",
   "execution_count": 44,
   "metadata": {},
   "outputs": [],
   "source": [
    "def hypothesis(x,theta):\n",
    "    return theta[0] + theta[1]*x\n",
    "\n",
    "\n",
    "def error(X,Y,theta):\n",
    "    m = X.shape[0]\n",
    "    err = 0.0\n",
    "    for i in range(m):\n",
    "        err += hypothesis(X[i],theta) - Y[i]\n",
    "        \n",
    "    return err\n",
    "\n",
    "\n",
    "def gradient(X,Y,theta):\n",
    "    m = X.shape[0]\n",
    "    grad = np.zeros(2,)\n",
    "    for i in range(m):\n",
    "        hyp = hypothesis(X[i],theta)\n",
    "        grad[0] += hyp - Y[i]\n",
    "        grad[1] += (hyp - Y[i])*X[i]\n",
    "        \n",
    "    return grad[0],grad[1]\n",
    "\n",
    "def gradientDescent(X,Y,learning_rate = 0.001):\n",
    "    \n",
    "    theta = np.zeros(2,)\n",
    "    for i in range(500):\n",
    "        grad = gradient(X,Y,theta)\n",
    "        theta[0] = theta[0] - learning_rate*grad[0]\n",
    "        theta[1] = theta[1] - learning_rate*grad[1]\n",
    "        \n",
    "    return theta\n",
    "        \n"
   ]
  },
  {
   "cell_type": "code",
   "execution_count": 45,
   "metadata": {},
   "outputs": [],
   "source": [
    "theta = gradientDescent(analysed_x,analysed_y)"
   ]
  },
  {
   "cell_type": "code",
   "execution_count": 46,
   "metadata": {},
   "outputs": [
    {
     "name": "stdout",
     "output_type": "stream",
     "text": [
      "[-0.03420485  1.99755339]\n"
     ]
    }
   ],
   "source": [
    "print(theta)"
   ]
  },
  {
   "cell_type": "code",
   "execution_count": 47,
   "metadata": {},
   "outputs": [
    {
     "data": {
      "image/png": "[encoded data removed]",
      "text/plain": [
       "<Figure size 432x288 with 1 Axes>"
      ]
     },
     "metadata": {
      "needs_background": "light"
     },
     "output_type": "display_data"
    }
   ],
   "source": [
    "x_test = np.linspace(0,4,10)\n",
    "plt.scatter(analysed_x,analysed_y,color=\"orange\")\n",
    "plt.plot(x_test,hypothesis(x_test,theta),color = \"blue\")\n",
    "plt.show()\n"
   ]
  },
  {
   "cell_type": "code",
   "execution_count": null,
   "metadata": {},
   "outputs": [],
   "source": []
  }
 ],
 "metadata": {
  "kernelspec": {
   "display_name": "Python 3",
   "language": "python",
   "name": "python3"
  },
  "language_info": {
   "codemirror_mode": {
    "name": "ipython",
    "version": 3
   },
   "file_extension": ".py",
   "mimetype": "text/x-python",
   "name": "python",
   "nbconvert_exporter": "python",
   "pygments_lexer": "ipython3",
   "version": "3.7.3"
  }
 },
 "nbformat": 4,
 "nbformat_minor": 2
}
